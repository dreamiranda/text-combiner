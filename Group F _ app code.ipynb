{
 "cells": [
  {
   "cell_type": "markdown",
   "metadata": {},
   "source": [
    "####  Text Comparison System"
   ]
  },
  {
   "cell_type": "code",
   "execution_count": null,
   "metadata": {},
   "outputs": [],
   "source": [
    "# Packages "
   ]
  },
  {
   "cell_type": "code",
   "execution_count": null,
   "metadata": {},
   "outputs": [],
   "source": [
    "# import nltk\n",
    "# nltk.download()\n",
    "# nltk.download('data')\n",
    "# nltk.download('punkt')\n",
    "# nltk.download('words')\n",
    "# nltk.download('wordnet')"
   ]
  },
  {
   "cell_type": "code",
   "execution_count": null,
   "metadata": {},
   "outputs": [],
   "source": [
    "# !pip install gingerit\n",
    "# !pip install thefuzz\n",
    "# !pip install fastpunct\n",
    "# !pip install contractions==0.0.18\n",
    "# !pip install semeval"
   ]
  },
  {
   "cell_type": "code",
   "execution_count": null,
   "metadata": {},
   "outputs": [],
   "source": [
    "# Sample Text"
   ]
  },
  {
   "cell_type": "code",
   "execution_count": 1,
   "metadata": {},
   "outputs": [],
   "source": [
    "txt_1 = 'Hi how are you? Myy name is Patricia. i love python. It is extremely useful!.'\n",
    "txt_2 = 'name: patricia peters. really love python. It\\'s useful and cool.'"
   ]
  },
  {
   "cell_type": "code",
   "execution_count": 2,
   "metadata": {},
   "outputs": [],
   "source": [
    "sen_0 = 'Hi how are you?'\n",
    "sen_1 = 'Myy name is Patricia.'\n",
    "sen_2 = 'name: patricia peters.'"
   ]
  },
  {
   "cell_type": "code",
   "execution_count": 3,
   "metadata": {},
   "outputs": [],
   "source": [
    "sen_3 = 'i love python'\n",
    "sen_4 = 'really love python'"
   ]
  },
  {
   "cell_type": "code",
   "execution_count": 4,
   "metadata": {},
   "outputs": [],
   "source": [
    "sen_5 = 'it is extremely useful'\n",
    "sen_6 = 'it is useful and cool'"
   ]
  },
  {
   "cell_type": "code",
   "execution_count": null,
   "metadata": {},
   "outputs": [],
   "source": [
    "# From the two texts, need to identify similar sentences \n",
    "# From the similar sentences, need to identify similar words "
   ]
  },
  {
   "cell_type": "code",
   "execution_count": null,
   "metadata": {},
   "outputs": [],
   "source": [
    "# Code "
   ]
  },
  {
   "cell_type": "code",
   "execution_count": 5,
   "metadata": {},
   "outputs": [],
   "source": [
    "# List individual sentences from text\n",
    "\n",
    "def list_sentences(text):\n",
    "    \n",
    "    import nltk.data\n",
    "    tokenizer = nltk.data.load('tokenizers/punkt/english.pickle')\n",
    "    sentences = tokenizer.tokenize(text)\n",
    "    \n",
    "    return sentences "
   ]
  },
  {
   "cell_type": "code",
   "execution_count": 6,
   "metadata": {},
   "outputs": [],
   "source": [
    "# List individual words from sentence \n",
    "\n",
    "def list_words(sentence):\n",
    "    \n",
    "    import nltk\n",
    "    words = nltk.word_tokenize(sentence)\n",
    "    \n",
    "    return words "
   ]
  },
  {
   "cell_type": "code",
   "execution_count": 7,
   "metadata": {},
   "outputs": [],
   "source": [
    "# Remove contractions from text \n",
    "\n",
    "def expand_contractions(text):\n",
    "    \n",
    "    import contractions\n",
    "  \n",
    "    expanded_words = []    \n",
    "    \n",
    "    for word in text.split():\n",
    "        expanded_words.append(contractions.fix(word))   \n",
    "\n",
    "    expanded_text = ' '.join(expanded_words)\n",
    "    \n",
    "    return expanded_text "
   ]
  },
  {
   "cell_type": "code",
   "execution_count": 8,
   "metadata": {},
   "outputs": [
    {
     "data": {
      "text/plain": [
       "\"name: patricia peters. really love python. It's useful and cool.\""
      ]
     },
     "execution_count": 8,
     "metadata": {},
     "output_type": "execute_result"
    }
   ],
   "source": [
    "txt_2"
   ]
  },
  {
   "cell_type": "code",
   "execution_count": 9,
   "metadata": {},
   "outputs": [
    {
     "data": {
      "text/plain": [
       "'name: patricia peters. really love python. it is useful and cool.'"
      ]
     },
     "execution_count": 9,
     "metadata": {},
     "output_type": "execute_result"
    }
   ],
   "source": [
    "txt_2 = expand_contractions(txt_2)\n",
    "txt_2"
   ]
  },
  {
   "cell_type": "code",
   "execution_count": 10,
   "metadata": {},
   "outputs": [],
   "source": [
    "# Punctuation, spelling and grammar check \n",
    "\n",
    "def punct_check(text):\n",
    "\n",
    "    from fastpunct import FastPunct\n",
    "    fastpunct = FastPunct()\n",
    "    text = fastpunct.punct([text], correct=True)   # type: list\n",
    "    text = ' '.join([str(elem) for elem in text])  # convert list back to string \n",
    "    \n",
    "    return text"
   ]
  },
  {
   "cell_type": "code",
   "execution_count": 11,
   "metadata": {},
   "outputs": [
    {
     "data": {
      "text/plain": [
       "'Hi how are you? Myy name is Patricia. i love python. It is extremely useful!.'"
      ]
     },
     "execution_count": 11,
     "metadata": {},
     "output_type": "execute_result"
    }
   ],
   "source": [
    "txt_1"
   ]
  },
  {
   "cell_type": "code",
   "execution_count": 12,
   "metadata": {},
   "outputs": [
    {
     "data": {
      "text/plain": [
       "'Hi how are you? My name is Patricia. I love python. It is extremely useful!'"
      ]
     },
     "execution_count": 12,
     "metadata": {},
     "output_type": "execute_result"
    }
   ],
   "source": [
    "punct_check(txt_1)"
   ]
  },
  {
   "cell_type": "code",
   "execution_count": 13,
   "metadata": {},
   "outputs": [],
   "source": [
    "# Spelling and grammar check \n",
    "\n",
    "def spell_check(sentence):\n",
    "    \n",
    "    from gingerit.gingerit import GingerIt\n",
    "    parser = GingerIt()\n",
    "    sentence = parser.parse(sentence)\n",
    "    sentence = sentence[\"result\"]       # type: string\n",
    "\n",
    "    return sentence"
   ]
  },
  {
   "cell_type": "code",
   "execution_count": 14,
   "metadata": {},
   "outputs": [
    {
     "data": {
      "text/plain": [
       "'Myy name is Patricia.'"
      ]
     },
     "execution_count": 14,
     "metadata": {},
     "output_type": "execute_result"
    }
   ],
   "source": [
    "sen_1"
   ]
  },
  {
   "cell_type": "code",
   "execution_count": 15,
   "metadata": {},
   "outputs": [
    {
     "data": {
      "text/plain": [
       "'My name is Patricia.'"
      ]
     },
     "execution_count": 15,
     "metadata": {},
     "output_type": "execute_result"
    }
   ],
   "source": [
    "spell_check(sen_1)"
   ]
  },
  {
   "cell_type": "code",
   "execution_count": 16,
   "metadata": {},
   "outputs": [
    {
     "data": {
      "text/plain": [
       "'name: patricia peters.'"
      ]
     },
     "execution_count": 16,
     "metadata": {},
     "output_type": "execute_result"
    }
   ],
   "source": [
    "sen_2"
   ]
  },
  {
   "cell_type": "code",
   "execution_count": 17,
   "metadata": {},
   "outputs": [
    {
     "data": {
      "text/plain": [
       "'Name: Patricia peters.'"
      ]
     },
     "execution_count": 17,
     "metadata": {},
     "output_type": "execute_result"
    }
   ],
   "source": [
    "spell_check(sen_2)"
   ]
  },
  {
   "cell_type": "code",
   "execution_count": 18,
   "metadata": {},
   "outputs": [],
   "source": [
    "# Make string lower case and remove punctuation\n",
    "\n",
    "def clean_sentence(sentence):\n",
    "    \n",
    "    import string\n",
    "    sentence = spell_check(sentence)\n",
    "    sentence = sentence.lower()\n",
    "    sentence = sentence.translate(str.maketrans('', '', string.punctuation))\n",
    "    \n",
    "    return sentence"
   ]
  },
  {
   "cell_type": "code",
   "execution_count": 19,
   "metadata": {},
   "outputs": [
    {
     "data": {
      "text/plain": [
       "'my name is patricia'"
      ]
     },
     "execution_count": 19,
     "metadata": {},
     "output_type": "execute_result"
    }
   ],
   "source": [
    "sen_1 = clean_sentence(sen_1)\n",
    "sen_1"
   ]
  },
  {
   "cell_type": "code",
   "execution_count": 20,
   "metadata": {},
   "outputs": [
    {
     "data": {
      "text/plain": [
       "'name patricia peters'"
      ]
     },
     "execution_count": 20,
     "metadata": {},
     "output_type": "execute_result"
    }
   ],
   "source": [
    "sen_2 = clean_sentence(sen_2)\n",
    "sen_2"
   ]
  },
  {
   "cell_type": "code",
   "execution_count": 21,
   "metadata": {},
   "outputs": [],
   "source": [
    "sen_3 = clean_sentence(sen_3)\n",
    "sen_4 = clean_sentence(sen_4)\n",
    "sen_5 = clean_sentence(sen_5)\n",
    "sen_6 = clean_sentence(sen_6)"
   ]
  },
  {
   "cell_type": "code",
   "execution_count": 22,
   "metadata": {},
   "outputs": [],
   "source": [
    "# Seperate text into sentences and clean them \n",
    "\n",
    "def seperate_clean_text(text):\n",
    "   \n",
    "    text = punct_check(text)   \n",
    "    text = expand_contractions(text)\n",
    "    sentences = list_sentences(text)\n",
    "    \n",
    "    loop_length = len(sentences)\n",
    "    \n",
    "    for i in range(0, loop_length):\n",
    "        sentences[i] = clean_sentence(sentences[i])\n",
    "        \n",
    "    return sentences  "
   ]
  },
  {
   "cell_type": "code",
   "execution_count": 23,
   "metadata": {},
   "outputs": [
    {
     "data": {
      "text/plain": [
       "['hi how are you',\n",
       " 'my name is patricia',\n",
       " 'i love python',\n",
       " 'it is extremely useful']"
      ]
     },
     "execution_count": 23,
     "metadata": {},
     "output_type": "execute_result"
    }
   ],
   "source": [
    "seperate_clean_text(txt_1)"
   ]
  },
  {
   "cell_type": "code",
   "execution_count": 24,
   "metadata": {},
   "outputs": [
    {
     "data": {
      "text/plain": [
       "['name patricia peters', 'really love python', 'it is useful and cool']"
      ]
     },
     "execution_count": 24,
     "metadata": {},
     "output_type": "execute_result"
    }
   ],
   "source": [
    "seperate_clean_text(txt_2)"
   ]
  },
  {
   "cell_type": "code",
   "execution_count": 25,
   "metadata": {},
   "outputs": [],
   "source": [
    "# Determines which list is larger \n",
    "# Larger list used as outer loop in remaining functions\n",
    "\n",
    "def list_size(list1, list2):\n",
    "    \n",
    "    length_list_1 = len(list1)\n",
    "    length_list_2 = len(list2)\n",
    "    \n",
    "    if length_list_2 >= length_list_1:\n",
    "        large_list = list2\n",
    "        large_list_length = length_list_2\n",
    "        small_list = list1\n",
    "        small_list_length = length_list_1\n",
    "    \n",
    "    else:\n",
    "        large_list = list1\n",
    "        large_list_length = length_list_1\n",
    "        small_list = list2\n",
    "        small_list_length = length_list_2\n",
    "    \n",
    "    return large_list, large_list_length,small_list, small_list_length"
   ]
  },
  {
   "cell_type": "code",
   "execution_count": 26,
   "metadata": {},
   "outputs": [],
   "source": [
    "# Find synonyms for a word\n",
    "\n",
    "def synonyms(word):\n",
    "    \n",
    "    from nltk.corpus import wordnet\n",
    "    synonyms = []\n",
    "    \n",
    "    for synonym in wordnet.synsets(word):\n",
    "        for item in synonym.lemmas():\n",
    "            if word != synonym.name() and len(synonym.lemma_names()) > 1:\n",
    "                synonyms.append(item.name())\n",
    "\n",
    "    return synonyms"
   ]
  },
  {
   "cell_type": "code",
   "execution_count": 27,
   "metadata": {},
   "outputs": [
    {
     "data": {
      "text/plain": [
       "['ending',\n",
       " 'termination',\n",
       " 'termination',\n",
       " 'ending',\n",
       " 'conclusion',\n",
       " 'end',\n",
       " 'ending',\n",
       " 'ending',\n",
       " 'conclusion',\n",
       " 'finish',\n",
       " 'conclusion',\n",
       " 'end',\n",
       " 'close',\n",
       " 'closing',\n",
       " 'ending',\n",
       " 'end',\n",
       " 'stop',\n",
       " 'finish',\n",
       " 'terminate',\n",
       " 'cease',\n",
       " 'end',\n",
       " 'terminate',\n",
       " 'end',\n",
       " 'terminate']"
      ]
     },
     "execution_count": 27,
     "metadata": {},
     "output_type": "execute_result"
    }
   ],
   "source": [
    "synonyms('ending')"
   ]
  },
  {
   "cell_type": "code",
   "execution_count": 28,
   "metadata": {},
   "outputs": [],
   "source": [
    "# Remove ending of words in order to compare root word\n",
    "\n",
    "def suffix(word):\n",
    "\n",
    "    suff_list = ('s', '\\'s', 'ing', 'ed')\n",
    "    \n",
    "    for suffix in suff_list:\n",
    "        if word.endswith(suffix):\n",
    "            return word[:-len(suffix)]\n",
    "    \n",
    "    word = spell_check(word)\n",
    "    \n",
    "    return word   \n",
    "   "
   ]
  },
  {
   "cell_type": "code",
   "execution_count": 29,
   "metadata": {},
   "outputs": [
    {
     "data": {
      "text/plain": [
       "'end'"
      ]
     },
     "execution_count": 29,
     "metadata": {},
     "output_type": "execute_result"
    }
   ],
   "source": [
    "suffix('ending')"
   ]
  },
  {
   "cell_type": "code",
   "execution_count": 30,
   "metadata": {},
   "outputs": [
    {
     "data": {
      "text/plain": [
       "'car'"
      ]
     },
     "execution_count": 30,
     "metadata": {},
     "output_type": "execute_result"
    }
   ],
   "source": [
    "suffix('cars')"
   ]
  },
  {
   "cell_type": "code",
   "execution_count": 31,
   "metadata": {},
   "outputs": [],
   "source": [
    "# Determine if two words are similar or not\n",
    "# If they are similar return TRUE, if not return FALSE\n",
    "\n",
    "def compare_words(word1, word2):\n",
    "    \n",
    "    word1 = suffix(word1)\n",
    "    word2 = suffix(word2)\n",
    "\n",
    "    if word1 == word2:\n",
    "        return True\n",
    "        \n",
    "    else:\n",
    "        if word1 in synonyms(word2):\n",
    "            return True \n",
    "        \n",
    "        else:\n",
    "            if word2 in synonyms(word1):\n",
    "                return True\n",
    "            \n",
    "            else:\n",
    "                return False "
   ]
  },
  {
   "cell_type": "code",
   "execution_count": 32,
   "metadata": {},
   "outputs": [
    {
     "data": {
      "text/plain": [
       "True"
      ]
     },
     "execution_count": 32,
     "metadata": {},
     "output_type": "execute_result"
    }
   ],
   "source": [
    "compare_words('end', 'ending')"
   ]
  },
  {
   "cell_type": "code",
   "execution_count": 33,
   "metadata": {},
   "outputs": [],
   "source": [
    "# Find similar words within a sentence \n",
    "\n",
    "def similar_words(sentence1, sentence2):\n",
    "    \n",
    "    similar_words = []\n",
    "    \n",
    "    words1 = list_words(sentence1)\n",
    "    words2 = list_words(sentence2)\n",
    "    \n",
    "    large_list = list_size(words1, words2)[0]\n",
    "    large_list_length = list_size(words1, words2)[1]\n",
    "    \n",
    "    small_list = list_size(words1, words2)[2]\n",
    "    small_list_length = list_size(words1, words2)[3]\n",
    "    \n",
    "    for i in range(large_list_length):\n",
    "        for j in range(0, small_list_length): \n",
    "            \n",
    "            if compare_words(large_list[i], small_list[j]) == True:\n",
    "                if large_list[i] not in similar_words:\n",
    "                    similar_words.append(large_list[i])\n",
    "                \n",
    "    return similar_words "
   ]
  },
  {
   "cell_type": "code",
   "execution_count": 34,
   "metadata": {},
   "outputs": [
    {
     "data": {
      "text/plain": [
       "'my name is patricia'"
      ]
     },
     "execution_count": 34,
     "metadata": {},
     "output_type": "execute_result"
    }
   ],
   "source": [
    "sen_1"
   ]
  },
  {
   "cell_type": "code",
   "execution_count": 35,
   "metadata": {},
   "outputs": [
    {
     "data": {
      "text/plain": [
       "'name patricia peters'"
      ]
     },
     "execution_count": 35,
     "metadata": {},
     "output_type": "execute_result"
    }
   ],
   "source": [
    "sen_2"
   ]
  },
  {
   "cell_type": "code",
   "execution_count": 36,
   "metadata": {},
   "outputs": [
    {
     "data": {
      "text/plain": [
       "['name', 'patricia']"
      ]
     },
     "execution_count": 36,
     "metadata": {},
     "output_type": "execute_result"
    }
   ],
   "source": [
    "similar_words(sen_1, sen_2)"
   ]
  },
  {
   "cell_type": "code",
   "execution_count": 37,
   "metadata": {},
   "outputs": [],
   "source": [
    "# Find different words within a sentence \n",
    "\n",
    "def different_words(sentence1, sentence2):\n",
    "    \n",
    "    different_words = []\n",
    "    same_words = []\n",
    "    same_words = similar_words(sentence1, sentence2)\n",
    "    \n",
    "    words1 = list_words(sentence1)\n",
    "    words2 = list_words(sentence2)\n",
    "    \n",
    "    large_list = list_size(words1, words2)[0]\n",
    "    large_list_length = list_size(words1, words2)[1]\n",
    "    \n",
    "    small_list = list_size(words1, words2)[2]\n",
    "    small_list_length = list_size(words1, words2)[3]\n",
    "    \n",
    "    if (large_list_length == small_list_length):\n",
    "        \n",
    "        for i in range(large_list_length):\n",
    "            if compare_words(large_list[i], small_list[i]) == False:\n",
    "                if large_list[i] not in same_words:\n",
    "                    if large_list[i] not in different_words:\n",
    "                        different_words.append(large_list[i])\n",
    "\n",
    "                    if small_list[i] not in same_words:\n",
    "                        if small_list[i] not in different_words:\n",
    "                            different_words.append(small_list[i])\n",
    "        \n",
    "    else:\n",
    "    \n",
    "        for i in range(large_list_length):\n",
    "            for j in range(0, small_list_length): \n",
    "\n",
    "                if compare_words(large_list[i], small_list[j]) == False:\n",
    "                    if large_list[i] not in same_words:\n",
    "                        if large_list[i] not in different_words:\n",
    "                            different_words.append(large_list[i])\n",
    "\n",
    "                    if small_list[j] not in same_words:\n",
    "                        if small_list[j] not in different_words:\n",
    "                            different_words.append(small_list[j])\n",
    "                \n",
    "    return different_words"
   ]
  },
  {
   "cell_type": "code",
   "execution_count": 38,
   "metadata": {},
   "outputs": [
    {
     "data": {
      "text/plain": [
       "'my name is patricia'"
      ]
     },
     "execution_count": 38,
     "metadata": {},
     "output_type": "execute_result"
    }
   ],
   "source": [
    "sen_1"
   ]
  },
  {
   "cell_type": "code",
   "execution_count": 39,
   "metadata": {},
   "outputs": [
    {
     "data": {
      "text/plain": [
       "'name patricia peters'"
      ]
     },
     "execution_count": 39,
     "metadata": {},
     "output_type": "execute_result"
    }
   ],
   "source": [
    "sen_2"
   ]
  },
  {
   "cell_type": "code",
   "execution_count": 40,
   "metadata": {},
   "outputs": [
    {
     "data": {
      "text/plain": [
       "['my', 'peters', 'is']"
      ]
     },
     "execution_count": 40,
     "metadata": {},
     "output_type": "execute_result"
    }
   ],
   "source": [
    "different_words(sen_1, sen_2)"
   ]
  },
  {
   "cell_type": "code",
   "execution_count": 41,
   "metadata": {},
   "outputs": [],
   "source": [
    "# Convert a list to a string\n",
    "\n",
    "def list_to_str(x):\n",
    "    \n",
    "    strings = [str(integer) for integer in x]\n",
    "    a_string = \"\".join(strings)\n",
    "\n",
    "    return a_string"
   ]
  },
  {
   "cell_type": "code",
   "execution_count": 42,
   "metadata": {},
   "outputs": [],
   "source": [
    "# Convert a list to an integer\n",
    "\n",
    "def list_to_int(x):\n",
    "    \n",
    "    strings = [str(integer) for integer in x]\n",
    "    a_string = \"\".join(strings)\n",
    "    an_integer = int(a_string)\n",
    "\n",
    "    return an_integer"
   ]
  },
  {
   "cell_type": "code",
   "execution_count": 43,
   "metadata": {},
   "outputs": [],
   "source": [
    "# Create a new sentence based on positioning of similar and different words\n",
    "# Use similar words to create base of sentence and insert different words afterwards "
   ]
  },
  {
   "cell_type": "code",
   "execution_count": 44,
   "metadata": {
    "slideshow": {
     "slide_type": "fragment"
    }
   },
   "outputs": [
    {
     "data": {
      "image/png": "[encoded data removed]",
      "text/plain": [
       "<IPython.core.display.Image object>"
      ]
     },
     "metadata": {},
     "output_type": "display_data"
    }
   ],
   "source": [
    "from IPython.display import display, Image\n",
    "display(Image(filename='new_sentence.png'))"
   ]
  },
  {
   "cell_type": "code",
   "execution_count": 45,
   "metadata": {},
   "outputs": [],
   "source": [
    "def new_sentence(sentence1, sentence2):\n",
    "    \n",
    "    same_words = []\n",
    "    diff_words = []\n",
    "    \n",
    "    same_words = similar_words(sentence1, sentence2)\n",
    "    diff_words = different_words(sentence1, sentence2)\n",
    "    \n",
    "    words1 = list_words(sentence1)\n",
    "    words2 = list_words(sentence2)\n",
    "    \n",
    "    large_list = list_size(words1, words2)[0]\n",
    "    large_list_length = list_size(words1, words2)[1]\n",
    "    \n",
    "    small_list = list_size(words1, words2)[2]\n",
    "    small_list_length = list_size(words1, words2)[3]\n",
    "    \n",
    "    new_sentence = []\n",
    "\n",
    "    for i in range(0, len(same_words)):\n",
    "\n",
    "        word = same_words[i]\n",
    "        word = word.split(' ')\n",
    "\n",
    "        pos_A = [large_list.index(x) for x in word]\n",
    "        pos_B = [small_list.index(x) for x in word]\n",
    "\n",
    "        pos_A = list_to_int(pos_A)\n",
    "        pos_B = list_to_int(pos_B)\n",
    "\n",
    "        if (pos_A > pos_B) == True:\n",
    "            for i in range(0, pos_A):\n",
    "                if large_list[i] not in new_sentence:\n",
    "                    new_sentence.append(large_list[i])\n",
    "            for i in range(0, pos_B):\n",
    "                if small_list[i] not in new_sentence:\n",
    "                    new_sentence.append(small_list[i])\n",
    "\n",
    "            new_sentence.append(list_to_str(word))\n",
    "            \n",
    "        elif (pos_A < pos_B) == True:\n",
    "            for i in range(0, pos_B):\n",
    "                if small_list[i] not in new_sentence:\n",
    "                    new_sentence.append(small_list[i])\n",
    "            for i in range(0, pos_A):\n",
    "                if large_list[i] not in new_sentence:\n",
    "                    new_sentence.append(large_list[i])\n",
    "\n",
    "            new_sentence.append(list_to_str(word))\n",
    "        \n",
    "        else:\n",
    "            for i in range(0, pos_B):\n",
    "                if small_list[i] not in new_sentence:\n",
    "                    new_sentence.append(small_list[i])\n",
    "                    \n",
    "            for i in range(0, pos_A):\n",
    "                if large_list[i] not in new_sentence:\n",
    "                    new_sentence.append(large_list[i])\n",
    "\n",
    "            new_sentence.append(list_to_str(word))\n",
    "            \n",
    "    for i in range(0, len(diff_words)):\n",
    "\n",
    "        word = diff_words[i]\n",
    "        word = word.split(' ')\n",
    "\n",
    "        if diff_words[i] not in new_sentence:\n",
    "\n",
    "            if diff_words[i] in large_list: \n",
    "                pos = [large_list.index(x) for x in word]\n",
    "                pos = list_to_int(pos) \n",
    "\n",
    "                # Word before appears \n",
    "                if large_list[pos-1] in new_sentence:\n",
    "                    first_word = large_list[pos-1]\n",
    "                    second_word = list_to_str(word)\n",
    "                    new_sentence.insert(new_sentence.index(first_word)+1, second_word)\n",
    "\n",
    "                # Word after appears \n",
    "                elif large_list[pos+1] in new_sentence: \n",
    "                    first_word = list_to_str(word)\n",
    "                    second_word = large_list[pos+1]\n",
    "                    new_sentence.insert(new_sentence.index(first_word)-1, second_word)\n",
    "                    \n",
    "                # If not add to end of sentence\n",
    "                else:\n",
    "                    new_sentence.append(diff_words[i])\n",
    "\n",
    "            if diff_words[i] in small_list: \n",
    "                pos = [small_list.index(x) for x in word]\n",
    "                pos = list_to_int(pos) \n",
    "\n",
    "                # Word before appears \n",
    "                if small_list[pos-1] in new_sentence:\n",
    "                    first_word = small_list[pos-1]\n",
    "                    second_word = list_to_str(word)\n",
    "                    new_sentence.insert(new_sentence.index(first_word)+1, second_word)\n",
    "\n",
    "                # Word after appears \n",
    "                elif words2[pos+1] in new_sentence: \n",
    "                    first_word = list_to_str(word)\n",
    "                    second_word = small_list[pos+1]\n",
    "                    new_sentence.insert(new_sentence.index(first_word)-1, second_word)\n",
    "\n",
    "                # If not add to end of sentence\n",
    "                else:\n",
    "                    new_sentence.append(diff_words[i])\n",
    "\n",
    "    final_sentence = ' '.join(new_sentence)\n",
    "    final_sentence = punct_check(final_sentence)\n",
    "\n",
    "    return final_sentence"
   ]
  },
  {
   "cell_type": "code",
   "execution_count": 46,
   "metadata": {},
   "outputs": [
    {
     "data": {
      "text/plain": [
       "'My name is Patricia Peters.'"
      ]
     },
     "execution_count": 46,
     "metadata": {},
     "output_type": "execute_result"
    }
   ],
   "source": [
    "new_sentence(sen_1, sen_2)"
   ]
  },
  {
   "cell_type": "code",
   "execution_count": 47,
   "metadata": {},
   "outputs": [
    {
     "data": {
      "text/plain": [
       "'I really love Python.'"
      ]
     },
     "execution_count": 47,
     "metadata": {},
     "output_type": "execute_result"
    }
   ],
   "source": [
    "new_sentence(sen_3, sen_4)"
   ]
  },
  {
   "cell_type": "code",
   "execution_count": 48,
   "metadata": {},
   "outputs": [
    {
     "data": {
      "text/plain": [
       "'It is extremely useful and cool.'"
      ]
     },
     "execution_count": 48,
     "metadata": {},
     "output_type": "execute_result"
    }
   ],
   "source": [
    "new_sentence(sen_5, sen_6)"
   ]
  },
  {
   "cell_type": "code",
   "execution_count": 49,
   "metadata": {},
   "outputs": [],
   "source": [
    "def compare_sentences(sentence1, sentence2):  \n",
    "    \n",
    "    from thefuzz import fuzz\n",
    "    from thefuzz import process\n",
    "    \n",
    "    if fuzz.ratio(sentence1, sentence2) > 40:\n",
    "            if fuzz.partial_ratio(sentence1, sentence2) > 40:\n",
    "                if fuzz.token_sort_ratio(sentence1, sentence2) > 50:\n",
    "                    if fuzz.token_set_ratio(sentence1, sentence2) > 50:\n",
    "                        return True\n",
    "                    else:\n",
    "                        return False "
   ]
  },
  {
   "cell_type": "code",
   "execution_count": 50,
   "metadata": {},
   "outputs": [
    {
     "name": "stderr",
     "output_type": "stream",
     "text": [
      "C:\\Users\\jaime\\anaconda3\\lib\\site-packages\\thefuzz\\fuzz.py:11: UserWarning: Using slow pure-python SequenceMatcher. Install python-Levenshtein to remove this warning\n",
      "  warnings.warn('Using slow pure-python SequenceMatcher. Install python-Levenshtein to remove this warning')\n"
     ]
    },
    {
     "data": {
      "text/plain": [
       "True"
      ]
     },
     "execution_count": 50,
     "metadata": {},
     "output_type": "execute_result"
    }
   ],
   "source": [
    "compare_sentences(sen_1, sen_2)"
   ]
  },
  {
   "cell_type": "code",
   "execution_count": 51,
   "metadata": {},
   "outputs": [
    {
     "data": {
      "text/plain": [
       "True"
      ]
     },
     "execution_count": 51,
     "metadata": {},
     "output_type": "execute_result"
    }
   ],
   "source": [
    "compare_sentences(sen_3, sen_4)"
   ]
  },
  {
   "cell_type": "code",
   "execution_count": 52,
   "metadata": {},
   "outputs": [
    {
     "data": {
      "text/plain": [
       "True"
      ]
     },
     "execution_count": 52,
     "metadata": {},
     "output_type": "execute_result"
    }
   ],
   "source": [
    "compare_sentences(sen_5, sen_6)"
   ]
  },
  {
   "cell_type": "code",
   "execution_count": 53,
   "metadata": {},
   "outputs": [],
   "source": [
    "def compare_text(text1, text2):\n",
    "    \n",
    "    similar_sentences = []\n",
    "    different_sentences = []\n",
    "    \n",
    "    sentences1 = seperate_clean_text(text1)\n",
    "    sentences2 = seperate_clean_text(text2)\n",
    "    \n",
    "    large_list = list_size(sentences1, sentences2)[0]\n",
    "    large_list_length = list_size(sentences1, sentences2)[1]\n",
    "    \n",
    "    small_list = list_size(sentences1, sentences2)[2]\n",
    "    small_list_length = list_size(sentences1, sentences2)[3]\n",
    "    \n",
    "    for i in range(large_list_length):\n",
    "        for j in range(0, small_list_length): \n",
    "            \n",
    "            if compare_sentences(large_list[i], small_list[j]) == True:\n",
    "                if large_list[i] not in similar_sentences:\n",
    "                    similar_sentences.append(large_list[i])\n",
    "                    similar_sentences.append(small_list[j])\n",
    "    \n",
    "    for i in range(large_list_length):\n",
    "        if large_list[i] not in similar_sentences:\n",
    "            different_sentences.append(large_list[i])\n",
    "    \n",
    "    for j in range(0, small_list_length): \n",
    "        if small_list[j] not in similar_sentences:\n",
    "            different_sentences.append(small_list[j])\n",
    "             \n",
    "    return different_sentences "
   ]
  },
  {
   "cell_type": "code",
   "execution_count": 54,
   "metadata": {},
   "outputs": [
    {
     "data": {
      "text/plain": [
       "['hi how are you']"
      ]
     },
     "execution_count": 54,
     "metadata": {},
     "output_type": "execute_result"
    }
   ],
   "source": [
    "compare_text(txt_1, txt_2)"
   ]
  },
  {
   "cell_type": "code",
   "execution_count": 55,
   "metadata": {},
   "outputs": [],
   "source": [
    "def combine_texts(text1, text2):\n",
    "    \n",
    "    new_text = []\n",
    "    \n",
    "    different_sentences = compare_text(txt_1, txt_2)\n",
    "    \n",
    "    sentences_1 = seperate_clean_text(text1)\n",
    "    sentences_2 = seperate_clean_text(text2)\n",
    "    \n",
    "    large_list = list_size(sentences_1, sentences_2)[0]\n",
    "    large_list_length = list_size(sentences_1, sentences_2)[1]\n",
    "    \n",
    "    small_list = list_size(sentences_1, sentences_2)[2]\n",
    "    small_list_length = list_size(sentences_1, sentences_2)[3]\n",
    "    \n",
    "    for i in range(0, large_list_length):\n",
    "        \n",
    "        if large_list[i] in different_sentences:\n",
    "            new_text.append(punct_check(large_list[i]))\n",
    "        \n",
    "        for j in range(0, small_list_length): \n",
    "            if small_list[j] in different_sentences:\n",
    "                if punct_check(small_list[j]) not in new_text: \n",
    "                    new_text.append(punct_check(small_list[j]))\n",
    "                    \n",
    "            if (compare_sentences(large_list[i], small_list[j])==True):\n",
    "                sentence = new_sentence(large_list[i], small_list[j])\n",
    "                sentence = punct_check(sentence)\n",
    "                new_text.append(sentence)\n",
    "            \n",
    "                \n",
    "    final_text = ' '.join(new_text)\n",
    "    final_text = punct_check(final_text)\n",
    " \n",
    "    return final_text"
   ]
  },
  {
   "cell_type": "code",
   "execution_count": 56,
   "metadata": {},
   "outputs": [
    {
     "data": {
      "text/plain": [
       "'Hi how are you? Myy name is Patricia. i love python. It is extremely useful!.'"
      ]
     },
     "execution_count": 56,
     "metadata": {},
     "output_type": "execute_result"
    }
   ],
   "source": [
    "txt_1"
   ]
  },
  {
   "cell_type": "code",
   "execution_count": 57,
   "metadata": {},
   "outputs": [
    {
     "data": {
      "text/plain": [
       "'name: patricia peters. really love python. it is useful and cool.'"
      ]
     },
     "execution_count": 57,
     "metadata": {},
     "output_type": "execute_result"
    }
   ],
   "source": [
    "txt_2"
   ]
  },
  {
   "cell_type": "code",
   "execution_count": 58,
   "metadata": {
    "scrolled": true
   },
   "outputs": [
    {
     "data": {
      "text/plain": [
       "'Hi, how are you? My name is Patricia Peters. I really love Python. It is extremely useful and cool.'"
      ]
     },
     "execution_count": 58,
     "metadata": {},
     "output_type": "execute_result"
    }
   ],
   "source": [
    "combine_texts(txt_1, txt_2)"
   ]
  }
 ],
 "metadata": {
  "kernelspec": {
   "display_name": "Python 3",
   "language": "python",
   "name": "python3"
  },
  "language_info": {
   "codemirror_mode": {
    "name": "ipython",
    "version": 3
   },
   "file_extension": ".py",
   "mimetype": "text/x-python",
   "name": "python",
   "nbconvert_exporter": "python",
   "pygments_lexer": "ipython3",
   "version": "3.8.5"
  }
 },
 "nbformat": 4,
 "nbformat_minor": 4
}
